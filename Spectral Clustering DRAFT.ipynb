{
 "cells": [
  {
   "cell_type": "markdown",
   "metadata": {},
   "source": [
    "Clustering metrics better than the elbow-method  \n",
    "https://towardsdatascience.com/clustering-metrics-better-than-the-elbow-method-6926e1f723a6\n",
    "\n",
    "Spectral Clustering  \n",
    "https://towardsdatascience.com/spectral-clustering-aba2640c0d5b\n",
    "\n",
    "Spectral Clustering From Scratch  \n",
    "https://medium.com/@tomernahshon/spectral-clustering-from-scratch-38c68968eae0\n",
    "\n",
    "\n",
    "Running Jupyter Notebook on Google Cloud Platform in 15 min  \n",
    "https://towardsdatascience.com/running-jupyter-notebook-in-google-cloud-platform-in-15-min-61e16da34d52\n",
    "\n"
   ]
  },
  {
   "cell_type": "code",
   "execution_count": null,
   "metadata": {},
   "outputs": [],
   "source": []
  },
  {
   "cell_type": "code",
   "execution_count": null,
   "metadata": {},
   "outputs": [],
   "source": []
  },
  {
   "cell_type": "code",
   "execution_count": 1,
   "metadata": {
    "ExecuteTime": {
     "end_time": "2019-11-21T21:57:33.885710Z",
     "start_time": "2019-11-21T21:57:31.776204Z"
    }
   },
   "outputs": [],
   "source": [
    "import pandas as pd\n",
    "import numpy as np\n",
    "import math\n",
    "\n",
    "import matplotlib.pyplot as plt\n",
    "import seaborn as sns\n",
    "%matplotlib inline\n",
    "\n",
    "import warnings\n",
    "warnings.filterwarnings('ignore')\n",
    "\n",
    "pd.set_option('display.max_rows', 500)\n",
    "pd.set_option('display.max_columns', 40)\n",
    "pd.set_option('display.width', 1000)"
   ]
  },
  {
   "cell_type": "code",
   "execution_count": 2,
   "metadata": {
    "ExecuteTime": {
     "end_time": "2019-11-21T21:57:40.221740Z",
     "start_time": "2019-11-21T21:57:37.711469Z"
    }
   },
   "outputs": [
    {
     "name": "stdout",
     "output_type": "stream",
     "text": [
      "<class 'pandas.core.frame.DataFrame'>\n",
      "RangeIndex: 194248 entries, 0 to 194247\n",
      "Data columns (total 28 columns):\n",
      "artist_id                  194248 non-null object\n",
      "artist_name                191716 non-null object\n",
      "artist_followers           194248 non-null float64\n",
      "artist_popularity          194248 non-null float64\n",
      "track_popularity_mean      194248 non-null float64\n",
      "track_popularity_std       194248 non-null float64\n",
      "track_release_year_mean    194248 non-null float64\n",
      "track_release_year_std     194248 non-null float64\n",
      "acousticness_mean          194248 non-null float64\n",
      "acousticness_std           194248 non-null float64\n",
      "danceability_mean          194248 non-null float64\n",
      "danceability_std           194248 non-null float64\n",
      "duration_ms_mean           194248 non-null float64\n",
      "duration_ms_std            194248 non-null float64\n",
      "energy_mean                194248 non-null float64\n",
      "energy_std                 194248 non-null float64\n",
      "instrumentalness_mean      194248 non-null float64\n",
      "instrumentalness_std       194248 non-null float64\n",
      "liveness_mean              194248 non-null float64\n",
      "liveness_std               194248 non-null float64\n",
      "loudness_mean              194248 non-null float64\n",
      "loudness_std               194248 non-null float64\n",
      "speechiness_mean           194248 non-null float64\n",
      "speechiness_std            194248 non-null float64\n",
      "tempo_mean                 194248 non-null float64\n",
      "tempo_std                  194248 non-null float64\n",
      "valence_mean               194248 non-null float64\n",
      "valence_std                194248 non-null float64\n",
      "dtypes: float64(26), object(2)\n",
      "memory usage: 41.5+ MB\n",
      "None\n"
     ]
    },
    {
     "data": {
      "text/html": [
       "<div>\n",
       "<style scoped>\n",
       "    .dataframe tbody tr th:only-of-type {\n",
       "        vertical-align: middle;\n",
       "    }\n",
       "\n",
       "    .dataframe tbody tr th {\n",
       "        vertical-align: top;\n",
       "    }\n",
       "\n",
       "    .dataframe thead th {\n",
       "        text-align: right;\n",
       "    }\n",
       "</style>\n",
       "<table border=\"1\" class=\"dataframe\">\n",
       "  <thead>\n",
       "    <tr style=\"text-align: right;\">\n",
       "      <th></th>\n",
       "      <th>artist_id</th>\n",
       "      <th>artist_name</th>\n",
       "      <th>artist_followers</th>\n",
       "      <th>artist_popularity</th>\n",
       "      <th>track_popularity_mean</th>\n",
       "      <th>track_popularity_std</th>\n",
       "      <th>track_release_year_mean</th>\n",
       "      <th>track_release_year_std</th>\n",
       "      <th>acousticness_mean</th>\n",
       "      <th>acousticness_std</th>\n",
       "      <th>danceability_mean</th>\n",
       "      <th>danceability_std</th>\n",
       "      <th>duration_ms_mean</th>\n",
       "      <th>duration_ms_std</th>\n",
       "      <th>energy_mean</th>\n",
       "      <th>energy_std</th>\n",
       "      <th>instrumentalness_mean</th>\n",
       "      <th>instrumentalness_std</th>\n",
       "      <th>liveness_mean</th>\n",
       "      <th>liveness_std</th>\n",
       "      <th>loudness_mean</th>\n",
       "      <th>loudness_std</th>\n",
       "      <th>speechiness_mean</th>\n",
       "      <th>speechiness_std</th>\n",
       "      <th>tempo_mean</th>\n",
       "      <th>tempo_std</th>\n",
       "      <th>valence_mean</th>\n",
       "      <th>valence_std</th>\n",
       "    </tr>\n",
       "  </thead>\n",
       "  <tbody>\n",
       "    <tr>\n",
       "      <th>0</th>\n",
       "      <td>2jTsRGHAvKXXSbeO52G1t5</td>\n",
       "      <td>Webbstur</td>\n",
       "      <td>3453.0</td>\n",
       "      <td>28.0</td>\n",
       "      <td>17.8</td>\n",
       "      <td>10.195860</td>\n",
       "      <td>2017.3</td>\n",
       "      <td>0.948683</td>\n",
       "      <td>0.170563</td>\n",
       "      <td>0.255500</td>\n",
       "      <td>0.5925</td>\n",
       "      <td>0.116009</td>\n",
       "      <td>245121.3</td>\n",
       "      <td>51594.498027</td>\n",
       "      <td>0.84040</td>\n",
       "      <td>0.086234</td>\n",
       "      <td>0.413950</td>\n",
       "      <td>0.373703</td>\n",
       "      <td>0.15339</td>\n",
       "      <td>0.093559</td>\n",
       "      <td>-6.7449</td>\n",
       "      <td>1.570696</td>\n",
       "      <td>0.04442</td>\n",
       "      <td>0.015108</td>\n",
       "      <td>124.9970</td>\n",
       "      <td>2.174399</td>\n",
       "      <td>0.42026</td>\n",
       "      <td>0.266024</td>\n",
       "    </tr>\n",
       "    <tr>\n",
       "      <th>1</th>\n",
       "      <td>5CRw2KQzb9aH8HuyuQ6QCL</td>\n",
       "      <td>Ozy</td>\n",
       "      <td>103.0</td>\n",
       "      <td>6.0</td>\n",
       "      <td>2.5</td>\n",
       "      <td>5.233439</td>\n",
       "      <td>2012.7</td>\n",
       "      <td>4.001389</td>\n",
       "      <td>0.197861</td>\n",
       "      <td>0.354064</td>\n",
       "      <td>0.6189</td>\n",
       "      <td>0.177373</td>\n",
       "      <td>267232.6</td>\n",
       "      <td>94528.177818</td>\n",
       "      <td>0.72450</td>\n",
       "      <td>0.278383</td>\n",
       "      <td>0.672460</td>\n",
       "      <td>0.294077</td>\n",
       "      <td>0.21175</td>\n",
       "      <td>0.136774</td>\n",
       "      <td>-9.2551</td>\n",
       "      <td>5.195449</td>\n",
       "      <td>0.09468</td>\n",
       "      <td>0.055908</td>\n",
       "      <td>148.4241</td>\n",
       "      <td>21.335355</td>\n",
       "      <td>0.44111</td>\n",
       "      <td>0.272943</td>\n",
       "    </tr>\n",
       "    <tr>\n",
       "      <th>2</th>\n",
       "      <td>11fxyJpCpCnuG2c6NMuZNt</td>\n",
       "      <td>Bia Macedo</td>\n",
       "      <td>5177.0</td>\n",
       "      <td>11.0</td>\n",
       "      <td>7.8</td>\n",
       "      <td>4.391912</td>\n",
       "      <td>2017.0</td>\n",
       "      <td>0.000000</td>\n",
       "      <td>0.262620</td>\n",
       "      <td>0.159743</td>\n",
       "      <td>0.6322</td>\n",
       "      <td>0.087031</td>\n",
       "      <td>180036.6</td>\n",
       "      <td>12755.167904</td>\n",
       "      <td>0.87670</td>\n",
       "      <td>0.123941</td>\n",
       "      <td>0.000000</td>\n",
       "      <td>0.000000</td>\n",
       "      <td>0.37700</td>\n",
       "      <td>0.226577</td>\n",
       "      <td>-2.9268</td>\n",
       "      <td>2.288700</td>\n",
       "      <td>0.12018</td>\n",
       "      <td>0.090222</td>\n",
       "      <td>153.8066</td>\n",
       "      <td>20.089296</td>\n",
       "      <td>0.77540</td>\n",
       "      <td>0.090969</td>\n",
       "    </tr>\n",
       "    <tr>\n",
       "      <th>3</th>\n",
       "      <td>0pRBqfB42iVqXKIFJdfFKS</td>\n",
       "      <td>Brett Detar</td>\n",
       "      <td>1781.0</td>\n",
       "      <td>20.0</td>\n",
       "      <td>14.1</td>\n",
       "      <td>7.752419</td>\n",
       "      <td>2011.8</td>\n",
       "      <td>1.549193</td>\n",
       "      <td>0.183107</td>\n",
       "      <td>0.270250</td>\n",
       "      <td>0.4248</td>\n",
       "      <td>0.128387</td>\n",
       "      <td>259215.9</td>\n",
       "      <td>49391.796063</td>\n",
       "      <td>0.66320</td>\n",
       "      <td>0.200920</td>\n",
       "      <td>0.072125</td>\n",
       "      <td>0.140028</td>\n",
       "      <td>0.22184</td>\n",
       "      <td>0.176418</td>\n",
       "      <td>-7.4456</td>\n",
       "      <td>2.286342</td>\n",
       "      <td>0.03678</td>\n",
       "      <td>0.017357</td>\n",
       "      <td>135.1359</td>\n",
       "      <td>29.490275</td>\n",
       "      <td>0.48690</td>\n",
       "      <td>0.269610</td>\n",
       "    </tr>\n",
       "    <tr>\n",
       "      <th>4</th>\n",
       "      <td>5MpELOfAiq7aIBTij30phD</td>\n",
       "      <td>Harry James</td>\n",
       "      <td>17750.5</td>\n",
       "      <td>53.0</td>\n",
       "      <td>34.7</td>\n",
       "      <td>9.894709</td>\n",
       "      <td>1977.8</td>\n",
       "      <td>31.701901</td>\n",
       "      <td>0.841900</td>\n",
       "      <td>0.158289</td>\n",
       "      <td>0.4435</td>\n",
       "      <td>0.140408</td>\n",
       "      <td>197270.7</td>\n",
       "      <td>38825.948564</td>\n",
       "      <td>0.24639</td>\n",
       "      <td>0.198372</td>\n",
       "      <td>0.267144</td>\n",
       "      <td>0.373276</td>\n",
       "      <td>0.18035</td>\n",
       "      <td>0.086693</td>\n",
       "      <td>-12.8619</td>\n",
       "      <td>4.617813</td>\n",
       "      <td>0.03994</td>\n",
       "      <td>0.018269</td>\n",
       "      <td>100.5924</td>\n",
       "      <td>21.342652</td>\n",
       "      <td>0.40420</td>\n",
       "      <td>0.173864</td>\n",
       "    </tr>\n",
       "  </tbody>\n",
       "</table>\n",
       "</div>"
      ],
      "text/plain": [
       "                artist_id  artist_name  artist_followers  artist_popularity  track_popularity_mean  track_popularity_std  track_release_year_mean  track_release_year_std  acousticness_mean  acousticness_std  danceability_mean  danceability_std  duration_ms_mean  duration_ms_std  energy_mean  energy_std  instrumentalness_mean  instrumentalness_std  liveness_mean  liveness_std  loudness_mean  loudness_std  speechiness_mean  speechiness_std  tempo_mean  tempo_std  valence_mean  valence_std\n",
       "0  2jTsRGHAvKXXSbeO52G1t5     Webbstur            3453.0               28.0                   17.8             10.195860                   2017.3                0.948683           0.170563          0.255500             0.5925          0.116009          245121.3     51594.498027      0.84040    0.086234               0.413950              0.373703        0.15339      0.093559        -6.7449      1.570696           0.04442         0.015108    124.9970   2.174399       0.42026     0.266024\n",
       "1  5CRw2KQzb9aH8HuyuQ6QCL          Ozy             103.0                6.0                    2.5              5.233439                   2012.7                4.001389           0.197861          0.354064             0.6189          0.177373          267232.6     94528.177818      0.72450    0.278383               0.672460              0.294077        0.21175      0.136774        -9.2551      5.195449           0.09468         0.055908    148.4241  21.335355       0.44111     0.272943\n",
       "2  11fxyJpCpCnuG2c6NMuZNt   Bia Macedo            5177.0               11.0                    7.8              4.391912                   2017.0                0.000000           0.262620          0.159743             0.6322          0.087031          180036.6     12755.167904      0.87670    0.123941               0.000000              0.000000        0.37700      0.226577        -2.9268      2.288700           0.12018         0.090222    153.8066  20.089296       0.77540     0.090969\n",
       "3  0pRBqfB42iVqXKIFJdfFKS  Brett Detar            1781.0               20.0                   14.1              7.752419                   2011.8                1.549193           0.183107          0.270250             0.4248          0.128387          259215.9     49391.796063      0.66320    0.200920               0.072125              0.140028        0.22184      0.176418        -7.4456      2.286342           0.03678         0.017357    135.1359  29.490275       0.48690     0.269610\n",
       "4  5MpELOfAiq7aIBTij30phD  Harry James           17750.5               53.0                   34.7              9.894709                   1977.8               31.701901           0.841900          0.158289             0.4435          0.140408          197270.7     38825.948564      0.24639    0.198372               0.267144              0.373276        0.18035      0.086693       -12.8619      4.617813           0.03994         0.018269    100.5924  21.342652       0.40420     0.173864"
      ]
     },
     "execution_count": 2,
     "metadata": {},
     "output_type": "execute_result"
    }
   ],
   "source": [
    "# Read CSV to DataFrame\n",
    "artists = pd.read_csv('Data/artists_train.csv')\n",
    "\n",
    "# Drop unnamed column\n",
    "artists.drop(columns=['Unnamed: 0', 'Unnamed: 0.1'], inplace=True)\n",
    "\n",
    "# Preview dataframe\n",
    "print(artists.info())\n",
    "artists.head()"
   ]
  },
  {
   "cell_type": "code",
   "execution_count": 3,
   "metadata": {
    "ExecuteTime": {
     "end_time": "2019-11-21T21:57:55.981696Z",
     "start_time": "2019-11-21T21:57:55.969291Z"
    }
   },
   "outputs": [],
   "source": [
    "X = artists.drop(columns=['artist_id',\n",
    "                          'artist_name',\n",
    "                          'artist_followers',\n",
    "                          'artist_popularity',\n",
    "                          'track_popularity_mean',\n",
    "                          'track_popularity_std',\n",
    "                          'track_release_year_mean',\n",
    "                          'track_release_year_std'])"
   ]
  },
  {
   "cell_type": "code",
   "execution_count": 7,
   "metadata": {
    "ExecuteTime": {
     "end_time": "2019-11-21T21:58:38.188509Z",
     "start_time": "2019-11-21T21:58:38.184979Z"
    }
   },
   "outputs": [],
   "source": [
    "X_partial = X[::4]"
   ]
  },
  {
   "cell_type": "code",
   "execution_count": 8,
   "metadata": {
    "ExecuteTime": {
     "end_time": "2019-11-21T21:58:39.317292Z",
     "start_time": "2019-11-21T21:58:39.312180Z"
    }
   },
   "outputs": [
    {
     "data": {
      "text/plain": [
       "(48562, 20)"
      ]
     },
     "execution_count": 8,
     "metadata": {},
     "output_type": "execute_result"
    }
   ],
   "source": [
    "X_partial.shape"
   ]
  },
  {
   "cell_type": "code",
   "execution_count": 9,
   "metadata": {
    "ExecuteTime": {
     "end_time": "2019-11-21T21:58:46.600122Z",
     "start_time": "2019-11-21T21:58:46.104937Z"
    }
   },
   "outputs": [],
   "source": [
    "from sklearn.preprocessing import StandardScaler\n",
    "ss = StandardScaler()\n",
    "X_sscaled = ss.fit_transform(X)\n",
    "X_sscaled = pd.DataFrame(X_sscaled, columns=X.columns)"
   ]
  },
  {
   "cell_type": "code",
   "execution_count": 10,
   "metadata": {
    "ExecuteTime": {
     "end_time": "2019-11-21T21:58:46.668825Z",
     "start_time": "2019-11-21T21:58:46.613406Z"
    }
   },
   "outputs": [],
   "source": [
    "from sklearn.preprocessing import MinMaxScaler\n",
    "mms = MinMaxScaler()\n",
    "X_mmscaled = mms.fit_transform(X)\n",
    "X_mmscaled = pd.DataFrame(X_mmscaled, columns=X.columns)"
   ]
  },
  {
   "cell_type": "code",
   "execution_count": 11,
   "metadata": {
    "ExecuteTime": {
     "end_time": "2019-11-21T21:58:47.587180Z",
     "start_time": "2019-11-21T21:58:47.401232Z"
    }
   },
   "outputs": [],
   "source": [
    "from sklearn.cluster import SpectralClustering\n",
    "from sklearn import metrics\n",
    "from sklearn.metrics import calinski_harabasz_score, silhouette_score, davies_bouldin_score"
   ]
  },
  {
   "cell_type": "code",
   "execution_count": null,
   "metadata": {
    "ExecuteTime": {
     "start_time": "2019-11-21T21:58:51.290Z"
    }
   },
   "outputs": [],
   "source": [
    "sc = SpectralClustering(n_clusters=3, random_state=0, n_jobs=-2)\n",
    "preds = sc.fit_predict(X_partial)"
   ]
  },
  {
   "cell_type": "code",
   "execution_count": null,
   "metadata": {
    "ExecuteTime": {
     "start_time": "2019-11-21T21:46:01.079Z"
    }
   },
   "outputs": [],
   "source": [
    "# Using Data Normalized with Standard Scaler\n",
    "# Fitting Spectral Clustering Model for 2-20 Clusters\n",
    "\n",
    "km_scores_ss = []\n",
    "calinski_scores_ss = []\n",
    "silhouette_scores_ss = []\n",
    "davies_scores_ss = []\n",
    "for i in range(2,21):\n",
    "    print(\"-\", i, 'Clusters')\n",
    "    sc = SpectralClustering(n_clusters=i, random_state=0, n_jobs=-2)\n",
    "    preds = sc.fit_predict(X_sscaled)\n",
    "    \n",
    "    km_score = km.score(X_sscaled)\n",
    "    km_scores_ss.append(km_score)\n",
    "    print(\"K-Means Score:\", km_score)\n",
    "    \n",
    "    calinski = calinski_harabasz_score(X_sscaled,preds)\n",
    "    calinski_scores_ss.append(calinski)\n",
    "    print(\"Calinski Harabasz Score:\", calinski)\n",
    "\n",
    "#     silhouette = silhouette_score(X_sscaled,preds)\n",
    "#     silhouette_scores_ss.append(silhouette)\n",
    "#     print(\"Silhouette Score:\", silhouette)\n",
    "    \n",
    "    db = davies_bouldin_score(X_sscaled,preds)\n",
    "    davies_scores_ss.append(db)\n",
    "    print(\"Davies Bouldin Score:\", db)\n",
    "    \n",
    "    print(\"-\"*45)"
   ]
  },
  {
   "cell_type": "code",
   "execution_count": null,
   "metadata": {},
   "outputs": [],
   "source": []
  },
  {
   "cell_type": "code",
   "execution_count": null,
   "metadata": {},
   "outputs": [],
   "source": [
    "spectral_clusterer = CT.SpectralClustering(n_clusters=2, n_jobs=-3)\n",
    "class_predict = spectral_clusterer.fit_predict(X_sscaled)\n"
   ]
  },
  {
   "cell_type": "code",
   "execution_count": null,
   "metadata": {},
   "outputs": [],
   "source": [
    "pd.Series(class_predict_ls).value_counts()"
   ]
  }
 ],
 "metadata": {
  "kernelspec": {
   "display_name": "Python 3",
   "language": "python",
   "name": "python3"
  },
  "language_info": {
   "codemirror_mode": {
    "name": "ipython",
    "version": 3
   },
   "file_extension": ".py",
   "mimetype": "text/x-python",
   "name": "python",
   "nbconvert_exporter": "python",
   "pygments_lexer": "ipython3",
   "version": "3.7.3"
  },
  "toc": {
   "base_numbering": 1,
   "nav_menu": {},
   "number_sections": true,
   "sideBar": true,
   "skip_h1_title": false,
   "title_cell": "Table of Contents",
   "title_sidebar": "Contents",
   "toc_cell": false,
   "toc_position": {},
   "toc_section_display": true,
   "toc_window_display": false
  }
 },
 "nbformat": 4,
 "nbformat_minor": 2
}
